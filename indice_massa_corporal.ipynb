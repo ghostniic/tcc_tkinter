{
  "nbformat": 4,
  "nbformat_minor": 0,
  "metadata": {
    "colab": {
      "provenance": [],
      "authorship_tag": "ABX9TyP4AgYtDHJgw1ShUvtCMZ3p",
      "include_colab_link": true
    },
    "kernelspec": {
      "name": "python3",
      "display_name": "Python 3"
    },
    "language_info": {
      "name": "python"
    }
  },
  "cells": [
    {
      "cell_type": "markdown",
      "metadata": {
        "id": "view-in-github",
        "colab_type": "text"
      },
      "source": [
        "<a href=\"https://colab.research.google.com/github/ghostniic/tcc_tkinter/blob/main/indice_massa_corporal.ipynb\" target=\"_parent\"><img src=\"https://colab.research.google.com/assets/colab-badge.svg\" alt=\"Open In Colab\"/></a>"
      ]
    },
    {
      "cell_type": "code",
      "source": [
        "import tkinter as tk\n",
        "\n",
        "description = \"“O índice de massa corporal, ou IMC, é um valor derivado da massa (peso) e altura de uma pessoa. Definido como a massa corporal dividida pelo quadrado da altura corporal, é expresso em unidades de kg/m2, resultante da massa em quilogramas (kg) e da altura em metros (m).”\"\n",
        "\n",
        "bmi = 0.0\n",
        "\n",
        "def calculate_bmi():\n",
        "    weight = float(weight_entry.get())\n",
        "    height = float(height_entry.get())\n",
        "    global bmi\n",
        "    bmi = weight / (height ** 2)\n",
        "\n",
        "    classification = None\n",
        "    for category, (lower, upper) in bmi_classifications.items():\n",
        "        if lower <= bmi <= upper:\n",
        "            classification = category\n",
        "            break\n",
        "\n",
        "    result_card.config(text=f\"({bmi:.2f} - {classification})\")\n",
        "    result_card.configure(bg=bmi_colors[classification])\n",
        "\n",
        "    description_label.config(text=bmi_descriptions[classification])\n",
        "\n",
        "bmi_classifications = {\n",
        "    \"Muito abaixo do peso!\": (0, 15.4),\n",
        "    \"Abaixo do peso.\": (15.4, 18.5),\n",
        "    \"Normal.\": (18.5, 24.9),\n",
        "    \"Acima do peso.\": (25, 29.9),\n",
        "    \"Obesidade I.\": (30, 34.9),\n",
        "    \"Obesidade II [severa].\": (35, 39.9),\n",
        "    \"Obesidade III [mórbida]...\": (40, float(\"inf\"))\n",
        "}\n",
        "\n",
        "bmi_colors = {\n",
        "    \"Muito abaixo do peso!\": \"#9CD6E4\",\n",
        "    \"Abaixo do peso.\": \"#73C2FB\",\n",
        "    \"Normal.\": \"#009EDB\",\n",
        "    \"Acima do peso.\": \"#1C1CF0\",\n",
        "    \"Obesidade I.\": \"#120A8F\",\n",
        "    \"Obesidade II [severa].\": \"#191970\",\n",
        "    \"Obesidade III [mórbida]...\": \"#082567\"\n",
        "}\n",
        "\n",
        "bmi_descriptions = {\n",
        "    \"Muito abaixo do peso!\": \"Priorize comer alimentos nutritivos e com alto teor calórico, como abacate, nozes e manteigas de nozes, grãos integrais, peixes gordurosos e azeite de oliva.\",\n",
        "    \"Abaixo do peso.\": \"Enfatize o consumo de opções saudáveis e com alto teor calórico, como amêndoas, nozes, manteiga de amêndoa, quinoa, salmão e óleo de coco.\",\n",
        "    \"Normal.\": \"Concentre-se em uma dieta bem balanceada com muitos vegetais, frutas, grãos integrais, proteínas magras e gorduras saudáveis.\",\n",
        "    \"Acima do peso.\": \"Enfatize a redução da ingestão de alimentos processados, bebidas açucaradas e itens com alto teor de gordura. Incorpore mais atividade física no seu dia-a-dia.\",\n",
        "    \"Obesidade I.\": \"Implemente uma dieta com poucas calorias e foco em alimentos ricos em nutrientes. Tenha como objetivo aumentar gradualmente sua atividade física.\",\n",
        "    \"Obesidade II [severa].\": \"Consulte um profissional de saúde para obter um plano personalizado que pode envolver intervenções de dieta e exercícios e, possivelmente, medicamentos ou cirurgia.\",\n",
        "    \"Obesidade III [mórbida]...\": \"Procure aconselhamento de um profissional médico para criar uma estratégia individualizada, que possa abranger ajustes na dieta e na atividade física, e potencialmente envolver o uso de medicamentos ou procedimentos cirúrgicos.\"\n",
        "}\n",
        "\n",
        "window = tk.Tk()\n",
        "window.title(\"Descubra seu Índice de Massa Corporal (IMC)!\")\n",
        "window.geometry(\"500x500\")\n",
        "window.configure(background=\"#FFFFF0\")\n",
        "\n",
        "description_label = tk.Label(window, text=description, wraplength=500, justify=\"left\", background=\"#1034A6\", font=(\"Times New Roman\", 19), foreground=\"#FFFFF0\")\n",
        "description_label.pack()\n",
        "\n",
        "weight_label = tk.Label(window, text=\"...Digite seu peso (e.g 46kg):\", background=\"#FFFFF0\", font=(\"Times New Roman\", 16), foreground=\"#4B61D1\")\n",
        "weight_label.config(width=90, anchor=\"e\", justify=\"right\")\n",
        "weight_label.pack()\n",
        "weight_entry = tk.Entry(window)\n",
        "weight_entry.config(width=90, justify=\"right\")\n",
        "weight_entry.pack()\n",
        "\n",
        "height_label = tk.Label(window, text=\"Agora, digite sua altura (e.g 1.75m):\", background=\"#FFFFF0\", font=(\"Times New Roman\", 16), foreground=\"#3457D5\")\n",
        "height_label.config(width=90, anchor=\"w\", justify=\"left\")\n",
        "height_label.pack()\n",
        "height_entry = tk.Entry(window)\n",
        "height_entry.config(width=90, justify=\"left\")\n",
        "height_entry.pack()\n",
        "\n",
        "calculate_button = tk.Button(window, text=\"◆\", font=(\"Times New Roman\", 17), foreground=\"#FFFFF0\", background=\"#0E0E10\",  command=calculate_bmi)\n",
        "calculate_button.pack()\n",
        "\n",
        "result_card = tk.Label(window, text=\"\", font=(\"Times New Roman\", 19), background=\"#FFFFF0\", foreground=\"#FFFAFA\")\n",
        "result_card.pack()\n",
        "\n",
        "description_label = tk.Label(window, text=\"\", wraplength=500, justify=\"left\", background=\"#FFFFF0\", font=(\"Times New Roman\", 19), foreground=\"#0E0E10\")\n",
        "description_label.pack()\n",
        "\n",
        "window.mainloop()"
      ],
      "metadata": {
        "id": "fqghrzMyroiz"
      },
      "execution_count": null,
      "outputs": []
    }
  ]
}